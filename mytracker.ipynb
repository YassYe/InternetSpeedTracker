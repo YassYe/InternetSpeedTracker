{
 "cells": [
  {
   "cell_type": "code",
   "execution_count": 3,
   "metadata": {},
   "outputs": [
    {
     "name": "stdout",
     "output_type": "stream",
     "text": [
      "42.72054370235538\n",
      "15.06757903216213\n"
     ]
    }
   ],
   "source": [
    "# Python program to test\n",
    "# internet speed\n",
    "\n",
    "import speedtest\n",
    "\n",
    "\n",
    "\n",
    "st = speedtest.Speedtest(secure= True)\n",
    "\n",
    "print(st.download()/1e6)\n",
    "print(st.upload()/1e6)"
   ]
  },
  {
   "cell_type": "code",
   "execution_count": null,
   "metadata": {},
   "outputs": [],
   "source": []
  }
 ],
 "metadata": {
  "kernelspec": {
   "display_name": "Python 3",
   "language": "python",
   "name": "python3"
  },
  "language_info": {
   "codemirror_mode": {
    "name": "ipython",
    "version": 3
   },
   "file_extension": ".py",
   "mimetype": "text/x-python",
   "name": "python",
   "nbconvert_exporter": "python",
   "pygments_lexer": "ipython3",
   "version": "3.10.4"
  },
  "orig_nbformat": 4,
  "vscode": {
   "interpreter": {
    "hash": "5b70251268a7bbb768e6c608550dd41d4924194b79ae931002a2ba0d2f6746a6"
   }
  }
 },
 "nbformat": 4,
 "nbformat_minor": 2
}
