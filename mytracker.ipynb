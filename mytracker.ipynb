{
 "cells": [
  {
   "cell_type": "code",
   "execution_count": 1,
   "metadata": {},
   "outputs": [],
   "source": [
    "# Python program to test  internet speed\n",
    "import speedtest\n",
    "import os\n",
    "import pandas as pd\n",
    "from datetime import datetime\n",
    "import time"
   ]
  },
  {
   "cell_type": "code",
   "execution_count": 10,
   "metadata": {},
   "outputs": [],
   "source": [
    "#get set up speedtest object\n",
    "st = speedtest.Speedtest(secure= True)"
   ]
  },
  {
   "cell_type": "code",
   "execution_count": 15,
   "metadata": {},
   "outputs": [],
   "source": [
    "#Initialize first row for easy concatination.\n",
    "dwnld_sp = st.download()/1e6\n",
    "upld_sp = st.upload()/1e6\n",
    "data_frame = pd.DataFrame({\"Date\": [datetime.now()], \"DownloadSpeed\": [dwnld_sp], \"UploadSpeed\": [upld_sp]})\n",
    "# Parameters for logging data every 30 minutes for \n",
    "\n",
    "start_time = time.perf_counter()\n",
    "time_chunks = 1 * 60\n",
    "end_time = time.perf_counter()\n",
    "run_length = 5*60\n",
    "\n",
    "while (time.perf_counter() - end_time < run_length):\n",
    "    if( time.perf_counter() - start_time >= time_chunks):\n",
    "        dwnld_sp = st.download()/1e6\n",
    "        upld_sp = st.upload()/1e6\n",
    "        data_frame = pd.concat([data_frame,pd.DataFrame({\"Date\": [datetime.now()], \"DownloadSpeed\": [dwnld_sp], \"UploadSpeed\": [upld_sp]})], axis = 0)\n",
    "        start_time = time.perf_counter()\n",
    "\n",
    "data_frame.to_csv('testSpeed.csv')"
   ]
  },
  {
   "cell_type": "code",
   "execution_count": 16,
   "metadata": {},
   "outputs": [
    {
     "data": {
      "text/html": [
       "<div>\n",
       "<style scoped>\n",
       "    .dataframe tbody tr th:only-of-type {\n",
       "        vertical-align: middle;\n",
       "    }\n",
       "\n",
       "    .dataframe tbody tr th {\n",
       "        vertical-align: top;\n",
       "    }\n",
       "\n",
       "    .dataframe thead th {\n",
       "        text-align: right;\n",
       "    }\n",
       "</style>\n",
       "<table border=\"1\" class=\"dataframe\">\n",
       "  <thead>\n",
       "    <tr style=\"text-align: right;\">\n",
       "      <th></th>\n",
       "      <th>Date</th>\n",
       "      <th>DownloadSpeed</th>\n",
       "      <th>UploadSpeed</th>\n",
       "    </tr>\n",
       "  </thead>\n",
       "  <tbody>\n",
       "    <tr>\n",
       "      <th>0</th>\n",
       "      <td>2022-12-18 15:17:12.911691</td>\n",
       "      <td>29.514074</td>\n",
       "      <td>15.895073</td>\n",
       "    </tr>\n",
       "    <tr>\n",
       "      <th>0</th>\n",
       "      <td>2022-12-18 15:18:33.931839</td>\n",
       "      <td>29.100081</td>\n",
       "      <td>15.363492</td>\n",
       "    </tr>\n",
       "    <tr>\n",
       "      <th>0</th>\n",
       "      <td>2022-12-18 15:19:54.723041</td>\n",
       "      <td>30.862224</td>\n",
       "      <td>16.752201</td>\n",
       "    </tr>\n",
       "    <tr>\n",
       "      <th>0</th>\n",
       "      <td>2022-12-18 15:21:15.542463</td>\n",
       "      <td>28.854935</td>\n",
       "      <td>16.847032</td>\n",
       "    </tr>\n",
       "  </tbody>\n",
       "</table>\n",
       "</div>"
      ],
      "text/plain": [
       "                        Date  DownloadSpeed  UploadSpeed\n",
       "0 2022-12-18 15:17:12.911691      29.514074    15.895073\n",
       "0 2022-12-18 15:18:33.931839      29.100081    15.363492\n",
       "0 2022-12-18 15:19:54.723041      30.862224    16.752201\n",
       "0 2022-12-18 15:21:15.542463      28.854935    16.847032"
      ]
     },
     "execution_count": 16,
     "metadata": {},
     "output_type": "execute_result"
    }
   ],
   "source": [
    "data_frame"
   ]
  },
  {
   "cell_type": "code",
   "execution_count": null,
   "metadata": {},
   "outputs": [],
   "source": []
  }
 ],
 "metadata": {
  "kernelspec": {
   "display_name": "Python 3",
   "language": "python",
   "name": "python3"
  },
  "language_info": {
   "codemirror_mode": {
    "name": "ipython",
    "version": 3
   },
   "file_extension": ".py",
   "mimetype": "text/x-python",
   "name": "python",
   "nbconvert_exporter": "python",
   "pygments_lexer": "ipython3",
   "version": "3.10.4"
  },
  "orig_nbformat": 4,
  "vscode": {
   "interpreter": {
    "hash": "5b70251268a7bbb768e6c608550dd41d4924194b79ae931002a2ba0d2f6746a6"
   }
  }
 },
 "nbformat": 4,
 "nbformat_minor": 2
}
