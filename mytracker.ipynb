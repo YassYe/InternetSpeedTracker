{
 "cells": [
  {
   "cell_type": "code",
   "execution_count": 45,
   "metadata": {},
   "outputs": [],
   "source": [
    "# Python program to test  internet speed\n",
    "import speedtest\n",
    "import os\n",
    "import pandas as pd\n",
    "from datetime import datetime\n",
    "import time"
   ]
  },
  {
   "cell_type": "code",
   "execution_count": 46,
   "metadata": {},
   "outputs": [],
   "source": [
    "#get set up speedtest object\n",
    "st = speedtest.Speedtest(secure= True)\n",
    "\n",
    "# print(st.download()/1e6)\n",
    "# print(st.upload()/1e6)"
   ]
  },
  {
   "cell_type": "code",
   "execution_count": 62,
   "metadata": {},
   "outputs": [],
   "source": [
    "#Data logger files \n",
    "data_frame = pd.DataFrame(columns=[\"Date\", 'DownloadSpeed', 'UploadSpeed'])"
   ]
  },
  {
   "cell_type": "code",
   "execution_count": 63,
   "metadata": {},
   "outputs": [
    {
     "name": "stderr",
     "output_type": "stream",
     "text": [
      "C:\\Users\\yassy\\AppData\\Local\\Temp\\ipykernel_9844\\105247288.py:11: FutureWarning: The frame.append method is deprecated and will be removed from pandas in a future version. Use pandas.concat instead.\n",
      "  data_frame = data_frame.append({\"Date\": datetime.now(), \"DownloadSpeed\": dwnld_sp, \"UploadSpeed\": upld_sp},ignore_index = True)\n",
      "C:\\Users\\yassy\\AppData\\Local\\Temp\\ipykernel_9844\\105247288.py:11: FutureWarning: The frame.append method is deprecated and will be removed from pandas in a future version. Use pandas.concat instead.\n",
      "  data_frame = data_frame.append({\"Date\": datetime.now(), \"DownloadSpeed\": dwnld_sp, \"UploadSpeed\": upld_sp},ignore_index = True)\n",
      "C:\\Users\\yassy\\AppData\\Local\\Temp\\ipykernel_9844\\105247288.py:11: FutureWarning: The frame.append method is deprecated and will be removed from pandas in a future version. Use pandas.concat instead.\n",
      "  data_frame = data_frame.append({\"Date\": datetime.now(), \"DownloadSpeed\": dwnld_sp, \"UploadSpeed\": upld_sp},ignore_index = True)\n",
      "C:\\Users\\yassy\\AppData\\Local\\Temp\\ipykernel_9844\\105247288.py:11: FutureWarning: The frame.append method is deprecated and will be removed from pandas in a future version. Use pandas.concat instead.\n",
      "  data_frame = data_frame.append({\"Date\": datetime.now(), \"DownloadSpeed\": dwnld_sp, \"UploadSpeed\": upld_sp},ignore_index = True)\n",
      "C:\\Users\\yassy\\AppData\\Local\\Temp\\ipykernel_9844\\105247288.py:11: FutureWarning: The frame.append method is deprecated and will be removed from pandas in a future version. Use pandas.concat instead.\n",
      "  data_frame = data_frame.append({\"Date\": datetime.now(), \"DownloadSpeed\": dwnld_sp, \"UploadSpeed\": upld_sp},ignore_index = True)\n",
      "C:\\Users\\yassy\\AppData\\Local\\Temp\\ipykernel_9844\\105247288.py:11: FutureWarning: The frame.append method is deprecated and will be removed from pandas in a future version. Use pandas.concat instead.\n",
      "  data_frame = data_frame.append({\"Date\": datetime.now(), \"DownloadSpeed\": dwnld_sp, \"UploadSpeed\": upld_sp},ignore_index = True)\n",
      "C:\\Users\\yassy\\AppData\\Local\\Temp\\ipykernel_9844\\105247288.py:11: FutureWarning: The frame.append method is deprecated and will be removed from pandas in a future version. Use pandas.concat instead.\n",
      "  data_frame = data_frame.append({\"Date\": datetime.now(), \"DownloadSpeed\": dwnld_sp, \"UploadSpeed\": upld_sp},ignore_index = True)\n",
      "C:\\Users\\yassy\\AppData\\Local\\Temp\\ipykernel_9844\\105247288.py:11: FutureWarning: The frame.append method is deprecated and will be removed from pandas in a future version. Use pandas.concat instead.\n",
      "  data_frame = data_frame.append({\"Date\": datetime.now(), \"DownloadSpeed\": dwnld_sp, \"UploadSpeed\": upld_sp},ignore_index = True)\n",
      "C:\\Users\\yassy\\AppData\\Local\\Temp\\ipykernel_9844\\105247288.py:11: FutureWarning: The frame.append method is deprecated and will be removed from pandas in a future version. Use pandas.concat instead.\n",
      "  data_frame = data_frame.append({\"Date\": datetime.now(), \"DownloadSpeed\": dwnld_sp, \"UploadSpeed\": upld_sp},ignore_index = True)\n",
      "C:\\Users\\yassy\\AppData\\Local\\Temp\\ipykernel_9844\\105247288.py:11: FutureWarning: The frame.append method is deprecated and will be removed from pandas in a future version. Use pandas.concat instead.\n",
      "  data_frame = data_frame.append({\"Date\": datetime.now(), \"DownloadSpeed\": dwnld_sp, \"UploadSpeed\": upld_sp},ignore_index = True)\n",
      "C:\\Users\\yassy\\AppData\\Local\\Temp\\ipykernel_9844\\105247288.py:11: FutureWarning: The frame.append method is deprecated and will be removed from pandas in a future version. Use pandas.concat instead.\n",
      "  data_frame = data_frame.append({\"Date\": datetime.now(), \"DownloadSpeed\": dwnld_sp, \"UploadSpeed\": upld_sp},ignore_index = True)\n",
      "C:\\Users\\yassy\\AppData\\Local\\Temp\\ipykernel_9844\\105247288.py:11: FutureWarning: The frame.append method is deprecated and will be removed from pandas in a future version. Use pandas.concat instead.\n",
      "  data_frame = data_frame.append({\"Date\": datetime.now(), \"DownloadSpeed\": dwnld_sp, \"UploadSpeed\": upld_sp},ignore_index = True)\n",
      "C:\\Users\\yassy\\AppData\\Local\\Temp\\ipykernel_9844\\105247288.py:11: FutureWarning: The frame.append method is deprecated and will be removed from pandas in a future version. Use pandas.concat instead.\n",
      "  data_frame = data_frame.append({\"Date\": datetime.now(), \"DownloadSpeed\": dwnld_sp, \"UploadSpeed\": upld_sp},ignore_index = True)\n",
      "C:\\Users\\yassy\\AppData\\Local\\Temp\\ipykernel_9844\\105247288.py:11: FutureWarning: The frame.append method is deprecated and will be removed from pandas in a future version. Use pandas.concat instead.\n",
      "  data_frame = data_frame.append({\"Date\": datetime.now(), \"DownloadSpeed\": dwnld_sp, \"UploadSpeed\": upld_sp},ignore_index = True)\n",
      "C:\\Users\\yassy\\AppData\\Local\\Temp\\ipykernel_9844\\105247288.py:11: FutureWarning: The frame.append method is deprecated and will be removed from pandas in a future version. Use pandas.concat instead.\n",
      "  data_frame = data_frame.append({\"Date\": datetime.now(), \"DownloadSpeed\": dwnld_sp, \"UploadSpeed\": upld_sp},ignore_index = True)\n",
      "C:\\Users\\yassy\\AppData\\Local\\Temp\\ipykernel_9844\\105247288.py:11: FutureWarning: The frame.append method is deprecated and will be removed from pandas in a future version. Use pandas.concat instead.\n",
      "  data_frame = data_frame.append({\"Date\": datetime.now(), \"DownloadSpeed\": dwnld_sp, \"UploadSpeed\": upld_sp},ignore_index = True)\n",
      "C:\\Users\\yassy\\AppData\\Local\\Temp\\ipykernel_9844\\105247288.py:11: FutureWarning: The frame.append method is deprecated and will be removed from pandas in a future version. Use pandas.concat instead.\n",
      "  data_frame = data_frame.append({\"Date\": datetime.now(), \"DownloadSpeed\": dwnld_sp, \"UploadSpeed\": upld_sp},ignore_index = True)\n",
      "C:\\Users\\yassy\\AppData\\Local\\Temp\\ipykernel_9844\\105247288.py:11: FutureWarning: The frame.append method is deprecated and will be removed from pandas in a future version. Use pandas.concat instead.\n",
      "  data_frame = data_frame.append({\"Date\": datetime.now(), \"DownloadSpeed\": dwnld_sp, \"UploadSpeed\": upld_sp},ignore_index = True)\n",
      "C:\\Users\\yassy\\AppData\\Local\\Temp\\ipykernel_9844\\105247288.py:11: FutureWarning: The frame.append method is deprecated and will be removed from pandas in a future version. Use pandas.concat instead.\n",
      "  data_frame = data_frame.append({\"Date\": datetime.now(), \"DownloadSpeed\": dwnld_sp, \"UploadSpeed\": upld_sp},ignore_index = True)\n",
      "C:\\Users\\yassy\\AppData\\Local\\Temp\\ipykernel_9844\\105247288.py:11: FutureWarning: The frame.append method is deprecated and will be removed from pandas in a future version. Use pandas.concat instead.\n",
      "  data_frame = data_frame.append({\"Date\": datetime.now(), \"DownloadSpeed\": dwnld_sp, \"UploadSpeed\": upld_sp},ignore_index = True)\n",
      "C:\\Users\\yassy\\AppData\\Local\\Temp\\ipykernel_9844\\105247288.py:11: FutureWarning: The frame.append method is deprecated and will be removed from pandas in a future version. Use pandas.concat instead.\n",
      "  data_frame = data_frame.append({\"Date\": datetime.now(), \"DownloadSpeed\": dwnld_sp, \"UploadSpeed\": upld_sp},ignore_index = True)\n",
      "C:\\Users\\yassy\\AppData\\Local\\Temp\\ipykernel_9844\\105247288.py:11: FutureWarning: The frame.append method is deprecated and will be removed from pandas in a future version. Use pandas.concat instead.\n",
      "  data_frame = data_frame.append({\"Date\": datetime.now(), \"DownloadSpeed\": dwnld_sp, \"UploadSpeed\": upld_sp},ignore_index = True)\n"
     ]
    }
   ],
   "source": [
    "# Parameters for logging data every 30 minutes for \n",
    "start_time = time.perf_counter()\n",
    "time_chunks = 5 * 60\n",
    "end_time = time.perf_counter()\n",
    "run_length = 2*60*60\n",
    "\n",
    "while (time.perf_counter() - end_time < run_length):\n",
    "    if( time.perf_counter() - start_time >= time_chunks):\n",
    "        dwnld_sp = st.download()/1e6\n",
    "        upld_sp = st.upload()/1e6\n",
    "        data_frame = data_frame.append({\"Date\": datetime.now(), \"DownloadSpeed\": dwnld_sp, \"UploadSpeed\": upld_sp},ignore_index = True)\n",
    "        start_time = time.perf_counter()\n",
    "\n",
    "data_frame.to_csv('testSpeed.csv')"
   ]
  },
  {
   "cell_type": "code",
   "execution_count": null,
   "metadata": {},
   "outputs": [],
   "source": []
  }
 ],
 "metadata": {
  "kernelspec": {
   "display_name": "Python 3",
   "language": "python",
   "name": "python3"
  },
  "language_info": {
   "codemirror_mode": {
    "name": "ipython",
    "version": 3
   },
   "file_extension": ".py",
   "mimetype": "text/x-python",
   "name": "python",
   "nbconvert_exporter": "python",
   "pygments_lexer": "ipython3",
   "version": "3.10.4"
  },
  "orig_nbformat": 4,
  "vscode": {
   "interpreter": {
    "hash": "5b70251268a7bbb768e6c608550dd41d4924194b79ae931002a2ba0d2f6746a6"
   }
  }
 },
 "nbformat": 4,
 "nbformat_minor": 2
}
